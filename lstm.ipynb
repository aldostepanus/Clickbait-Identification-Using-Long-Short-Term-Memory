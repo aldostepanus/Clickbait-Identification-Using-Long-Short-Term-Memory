{
 "cells": [
  {
   "cell_type": "markdown",
   "metadata": {
    "_cell_guid": "79c7e3d0-c299-4dcb-8224-4455121ee9b0",
    "_uuid": "d629ff2d2480ee46fbb7e2d37f6b5fab8052498a",
    "collapsed": true
   },
   "source": [
    "# Import the necessary libraries"
   ]
  },
  {
   "cell_type": "code",
   "execution_count": 1,
   "metadata": {
    "_uuid": "d6fb32fd69316596e236eab5fb8cf77c848508c3"
   },
   "outputs": [
    {
     "name": "stderr",
     "output_type": "stream",
     "text": [
      "Using TensorFlow backend.\n"
     ]
    }
   ],
   "source": [
    "import pandas as pd\n",
    "import numpy as np\n",
    "import matplotlib.pyplot as plt\n",
    "import matplotlib.ticker as ticker\n",
    "from matplotlib.pyplot import figure, show\n",
    "from matplotlib.ticker import MaxNLocator\n",
    "import seaborn as sns\n",
    "from sklearn.model_selection import train_test_split\n",
    "from sklearn.preprocessing import LabelEncoder\n",
    "from keras.models import Model, Sequential\n",
    "from keras.layers import LSTM, Activation, Dense, Dropout, Input, Embedding, Bidirectional\n",
    "from keras.optimizers import RMSprop\n",
    "from keras.preprocessing.text import Tokenizer\n",
    "from keras.preprocessing import sequence\n",
    "from keras.utils import to_categorical\n",
    "from keras.callbacks import EarlyStopping\n",
    "from keras import optimizers\n",
    "from pandas import Series\n",
    "%matplotlib inline"
   ]
  },
  {
   "cell_type": "markdown",
   "metadata": {
    "_uuid": "f674695f1742479cefdeec0e81ab469f7b6ec90f"
   },
   "source": [
    "### Load the data into Pandas dataframe"
   ]
  },
  {
   "cell_type": "code",
   "execution_count": 2,
   "metadata": {
    "_uuid": "aca2f1d9da3f35d104763166fe4d25448410d8f2",
    "scrolled": true
   },
   "outputs": [],
   "source": [
    "file = 'clickbait.csv'\n",
    "with open(file, encoding=\"utf-8\") as f_in:\n",
    "    lines = [line.rstrip() for line in f_in]\n",
    "    ybait = list([line for line in lines if line])\n",
    "\n",
    "df_ycb = pd.DataFrame(ybait, columns=['judul'])\n",
    "df_ycb['label'] = 'clickbait'\n",
    "\n",
    "file = 'non_clickbait.csv'\n",
    "with open(file, encoding=\"utf-8\") as f_in:\n",
    "    lines = [line.rstrip() for line in f_in]\n",
    "    nbait = list([line for line in lines if line])\n",
    "\n",
    "df_ncb = pd.DataFrame(nbait, columns=['judul'])\n",
    "df_ncb['label'] = 'non_clickbait'\n",
    "\n",
    "df = df_ycb.append(df_ncb, ignore_index=True).reset_index(drop=True)"
   ]
  },
  {
   "cell_type": "code",
   "execution_count": 3,
   "metadata": {},
   "outputs": [
    {
     "data": {
      "text/html": [
       "<div>\n",
       "<style scoped>\n",
       "    .dataframe tbody tr th:only-of-type {\n",
       "        vertical-align: middle;\n",
       "    }\n",
       "\n",
       "    .dataframe tbody tr th {\n",
       "        vertical-align: top;\n",
       "    }\n",
       "\n",
       "    .dataframe thead th {\n",
       "        text-align: right;\n",
       "    }\n",
       "</style>\n",
       "<table border=\"1\" class=\"dataframe\">\n",
       "  <thead>\n",
       "    <tr style=\"text-align: right;\">\n",
       "      <th></th>\n",
       "      <th>judul</th>\n",
       "      <th>label</th>\n",
       "    </tr>\n",
       "  </thead>\n",
       "  <tbody>\n",
       "    <tr>\n",
       "      <th>0</th>\n",
       "      <td>\"Dihantam Ombak, Kapal Tenggelam di Danau Toba...</td>\n",
       "      <td>clickbait</td>\n",
       "    </tr>\n",
       "    <tr>\n",
       "      <th>1</th>\n",
       "      <td>Kuasa Hukum : Dosen USU Tidak Tulis Status ten...</td>\n",
       "      <td>clickbait</td>\n",
       "    </tr>\n",
       "    <tr>\n",
       "      <th>2</th>\n",
       "      <td>\"MANTAP!!! Tayang Hari Perdana, Jumlah Penonto...</td>\n",
       "      <td>clickbait</td>\n",
       "    </tr>\n",
       "    <tr>\n",
       "      <th>3</th>\n",
       "      <td>SEDIHNYA... Kak Seto Menangis Dua Kali Gara-ga...</td>\n",
       "      <td>clickbait</td>\n",
       "    </tr>\n",
       "    <tr>\n",
       "      <th>4</th>\n",
       "      <td>\"Undangan Buat Warga Medan, Acara Launching Fi...</td>\n",
       "      <td>clickbait</td>\n",
       "    </tr>\n",
       "    <tr>\n",
       "      <th>...</th>\n",
       "      <td>...</td>\n",
       "      <td>...</td>\n",
       "    </tr>\n",
       "    <tr>\n",
       "      <th>18330</th>\n",
       "      <td>Jumatan di Capitol Hill Difitnah</td>\n",
       "      <td>non_clickbait</td>\n",
       "    </tr>\n",
       "    <tr>\n",
       "      <th>18331</th>\n",
       "      <td>Capitol Hill Jadi Tempat Jumatan</td>\n",
       "      <td>non_clickbait</td>\n",
       "    </tr>\n",
       "    <tr>\n",
       "      <th>18332</th>\n",
       "      <td>Gaddafi Kecam Dewan Keamanan sebagai Dewan Teror</td>\n",
       "      <td>non_clickbait</td>\n",
       "    </tr>\n",
       "    <tr>\n",
       "      <th>18333</th>\n",
       "      <td>\"Ibnu al-Banna, Matematikus Legendaris dari Ma...</td>\n",
       "      <td>non_clickbait</td>\n",
       "    </tr>\n",
       "    <tr>\n",
       "      <th>18334</th>\n",
       "      <td>Ilmu yang Bermanfaat</td>\n",
       "      <td>non_clickbait</td>\n",
       "    </tr>\n",
       "  </tbody>\n",
       "</table>\n",
       "<p>18335 rows × 2 columns</p>\n",
       "</div>"
      ],
      "text/plain": [
       "                                                   judul          label\n",
       "0      \"Dihantam Ombak, Kapal Tenggelam di Danau Toba...      clickbait\n",
       "1      Kuasa Hukum : Dosen USU Tidak Tulis Status ten...      clickbait\n",
       "2      \"MANTAP!!! Tayang Hari Perdana, Jumlah Penonto...      clickbait\n",
       "3      SEDIHNYA... Kak Seto Menangis Dua Kali Gara-ga...      clickbait\n",
       "4      \"Undangan Buat Warga Medan, Acara Launching Fi...      clickbait\n",
       "...                                                  ...            ...\n",
       "18330                   Jumatan di Capitol Hill Difitnah  non_clickbait\n",
       "18331                   Capitol Hill Jadi Tempat Jumatan  non_clickbait\n",
       "18332   Gaddafi Kecam Dewan Keamanan sebagai Dewan Teror  non_clickbait\n",
       "18333  \"Ibnu al-Banna, Matematikus Legendaris dari Ma...  non_clickbait\n",
       "18334                               Ilmu yang Bermanfaat  non_clickbait\n",
       "\n",
       "[18335 rows x 2 columns]"
      ]
     },
     "execution_count": 3,
     "metadata": {},
     "output_type": "execute_result"
    }
   ],
   "source": [
    "df"
   ]
  },
  {
   "cell_type": "code",
   "execution_count": 4,
   "metadata": {},
   "outputs": [
    {
     "data": {
      "text/plain": [
       "0"
      ]
     },
     "execution_count": 4,
     "metadata": {},
     "output_type": "execute_result"
    }
   ],
   "source": [
    "# Hapus Data Duplikat\n",
    "df = df.drop_duplicates()\n",
    "df.duplicated().sum()\n"
   ]
  },
  {
   "cell_type": "markdown",
   "metadata": {
    "_uuid": "3c7060084470000f39a2dcc15b656586dcd6e9fd"
   },
   "source": [
    "Understand the distribution better."
   ]
  },
  {
   "cell_type": "code",
   "execution_count": 5,
   "metadata": {
    "_uuid": "a12002f521dd8eaeb0f69a932cbf23815ffd09d7"
   },
   "outputs": [
    {
     "data": {
      "text/plain": [
       "Text(0.5, 1.0, 'Jumlah data clicbait dan non-clickbait')"
      ]
     },
     "execution_count": 5,
     "metadata": {},
     "output_type": "execute_result"
    },
    {
     "data": {
      "image/png": "[encoded data removed]",
      "text/plain": [
       "<Figure size 432x288 with 1 Axes>"
      ]
     },
     "metadata": {
      "needs_background": "light"
     },
     "output_type": "display_data"
    }
   ],
   "source": [
    "sns.countplot(df.label)\n",
    "plt.xlabel('label')\n",
    "plt.title('Jumlah data clicbait dan non-clickbait')"
   ]
  },
  {
   "cell_type": "markdown",
   "metadata": {
    "_uuid": "353a8191f86c3a22843a729b5d4a5acefbf94be8"
   },
   "source": [
    "* Create input and output vectors.\n",
    "* Process the labels."
   ]
  },
  {
   "cell_type": "code",
   "execution_count": 6,
   "metadata": {},
   "outputs": [],
   "source": [
    "# PREPROCESSING\n",
    "\n",
    "internet_stop_words = ['antaranews',\n",
    "    'antara','news','antaranews.com','tempo.co','tempointeraktif.com','republika',\n",
    "    'online','ihram.co.id','republika.co.id','posmetro','medan','dream.co.id','hijab.dream.co.id',\n",
    "    'travel.dream.co.id','parenting.dream.co.id','kepo.kapanlagi.com','plus.kapanlagi.com',\n",
    "    'kapanlagi.com','sooperboy.com','brilio.net','otonomi.co.id','vemale.com',\n",
    "    'otonomi','money.id','merdeka.com','feed.id','tribunwow.com'\n",
    "    'tribunnews.com','tribun','tribunstyle.com','tribuntravel.com',\n",
    "    'tribunnewsbogor.com','tribunjatim.com','grid.id','intisari.grid.id',\n",
    "    'wartakota','tribunjakarta','gridoto.com','tribunsolo.com','superball.id',\n",
    "    'tribunjateng''nakita.id','jogja.tribunnews.com','hemat.com','famous.id',\n",
    "    'inspirasihijab.com','pergi.com','molto.co.id','muslimarket',\n",
    "    'tribunnews.com ','braito.co.id', 'kapanlagi.com:'\n",
    "]\n",
    "\n",
    "indonesia_stop_words = [\n",
    "    'yang', 'untuk', 'pada', \n",
    "    'ke', 'para', 'namun', \n",
    "    'menurut', 'antara', 'dia', 'dua', 'ia', \n",
    "    'seperti', 'jika', 'jika', 'sehingga', 'kembali', \n",
    "    'dan', 'tidak', 'ini', 'karena', 'kepada', 'oleh', \n",
    "    'saat', 'harus', 'sementara', 'setelah', 'belum', \n",
    "    'kami', 'sekitar', 'bagi', 'serta', 'di', 'dari', \n",
    "    'telah', 'sebagai', 'masih', 'hal', 'ketika', \n",
    "    'adalah', 'itu', 'dalam', 'bisa', 'bahwa', 'atau', \n",
    "    'hanya', 'kita', 'dengan', 'akan', 'juga', 'ada', \n",
    "    'mereka', 'sudah', 'saya', 'terhadap', 'secara', \n",
    "    'agar', 'lain', 'anda', 'begitu', 'mengapa', \n",
    "    'kenapa', 'yaitu', 'yakni', 'daripada', 'itulah', \n",
    "    'lagi', 'maka', 'tentang', 'demi', 'dimana', \n",
    "    'kemana', 'pula', 'sambil', 'sebelum', 'sesudah', \n",
    "    'supaya', 'guna', 'kah', 'pun', 'sampai', 'sedangkan',\n",
    "    'selagi', 'sementara', 'tetapi', 'apakah', 'kecuali', \n",
    "    'sebab', 'selain', 'seolah', 'seraya', 'seterusnya', \n",
    "    'tanpa', 'agak', 'boleh', 'dapat', 'dsb', 'dst', 'dll', \n",
    "    'dahulu', 'dulunya', 'anu', 'demikian', 'tapi', 'ingin',\n",
    "    'juga', 'nggak', 'mari', 'nanti', 'melainkan', 'oh', 'ok', \n",
    "    'seharusnya', 'sebetulnya', 'setiap', 'setidaknya', 'sesuatu', \n",
    "    'pasti', 'saja','toh', 'ya', 'walau', 'tolong', 'tentu',\n",
    "    'amat', 'apalagi', 'bagaimanapun'\n",
    "]\n",
    "\n",
    "\n",
    "\n",
    "def remove_internet_stopwords(x):\n",
    "    return ' '.join([word for word in str(x).lower().split() if word not in internet_stop_words])\n",
    "\n",
    "def remove_indonesia_stopwords(x):\n",
    "    return ' '.join([word for word in str(x).lower().split() if word not in indonesia_stop_words])\n",
    "\n"
   ]
  },
  {
   "cell_type": "code",
   "execution_count": 7,
   "metadata": {},
   "outputs": [
    {
     "name": "stderr",
     "output_type": "stream",
     "text": [
      "c:\\users\\asus\\appdata\\local\\programs\\python\\python36\\lib\\site-packages\\pandas\\core\\generic.py:5159: SettingWithCopyWarning: \n",
      "A value is trying to be set on a copy of a slice from a DataFrame.\n",
      "Try using .loc[row_indexer,col_indexer] = value instead\n",
      "\n",
      "See the caveats in the documentation: https://pandas.pydata.org/pandas-docs/stable/user_guide/indexing.html#returning-a-view-versus-a-copy\n",
      "  self[name] = value\n",
      "c:\\users\\asus\\appdata\\local\\programs\\python\\python36\\lib\\site-packages\\ipykernel_launcher.py:11: SettingWithCopyWarning: \n",
      "A value is trying to be set on a copy of a slice from a DataFrame.\n",
      "Try using .loc[row_indexer,col_indexer] = value instead\n",
      "\n",
      "See the caveats in the documentation: https://pandas.pydata.org/pandas-docs/stable/user_guide/indexing.html#returning-a-view-versus-a-copy\n",
      "  # This is added back by InteractiveShellApp.init_path()\n"
     ]
    }
   ],
   "source": [
    "# lower\n",
    "df['judul'].str.lower()\n",
    "\n",
    "# Remove internet stop words\n",
    "df.judul = df.judul.apply(remove_internet_stopwords)\n",
    "\n",
    "# Remove Indonesia stop words\n",
    "df.judul = df.judul.apply(remove_indonesia_stopwords)\n",
    "\n",
    "# Remove tanda baca\n",
    "df['judul'] = df['judul'].str.replace('[^\\w\\s]', ' ')\n"
   ]
  },
  {
   "cell_type": "code",
   "execution_count": 8,
   "metadata": {},
   "outputs": [
    {
     "data": {
      "text/html": [
       "<div>\n",
       "<style scoped>\n",
       "    .dataframe tbody tr th:only-of-type {\n",
       "        vertical-align: middle;\n",
       "    }\n",
       "\n",
       "    .dataframe tbody tr th {\n",
       "        vertical-align: top;\n",
       "    }\n",
       "\n",
       "    .dataframe thead th {\n",
       "        text-align: right;\n",
       "    }\n",
       "</style>\n",
       "<table border=\"1\" class=\"dataframe\">\n",
       "  <thead>\n",
       "    <tr style=\"text-align: right;\">\n",
       "      <th></th>\n",
       "      <th>judul</th>\n",
       "      <th>label</th>\n",
       "    </tr>\n",
       "  </thead>\n",
       "  <tbody>\n",
       "    <tr>\n",
       "      <th>0</th>\n",
       "      <td>dihantam ombak  kapal tenggelam danau toba  p...</td>\n",
       "      <td>clickbait</td>\n",
       "    </tr>\n",
       "    <tr>\n",
       "      <th>1</th>\n",
       "      <td>kuasa hukum   dosen usu tulis status bom</td>\n",
       "      <td>clickbait</td>\n",
       "    </tr>\n",
       "    <tr>\n",
       "      <th>2</th>\n",
       "      <td>mantap    tayang hari perdana  jumlah penonto...</td>\n",
       "      <td>clickbait</td>\n",
       "    </tr>\n",
       "    <tr>\n",
       "      <th>3</th>\n",
       "      <td>sedihnya    kak seto menangis kali gara gara anak</td>\n",
       "      <td>clickbait</td>\n",
       "    </tr>\n",
       "    <tr>\n",
       "      <th>4</th>\n",
       "      <td>undangan buat warga medan  acara launching fi...</td>\n",
       "      <td>clickbait</td>\n",
       "    </tr>\n",
       "    <tr>\n",
       "      <th>...</th>\n",
       "      <td>...</td>\n",
       "      <td>...</td>\n",
       "    </tr>\n",
       "    <tr>\n",
       "      <th>18330</th>\n",
       "      <td>jumatan capitol hill difitnah</td>\n",
       "      <td>non_clickbait</td>\n",
       "    </tr>\n",
       "    <tr>\n",
       "      <th>18331</th>\n",
       "      <td>capitol hill jadi tempat jumatan</td>\n",
       "      <td>non_clickbait</td>\n",
       "    </tr>\n",
       "    <tr>\n",
       "      <th>18332</th>\n",
       "      <td>gaddafi kecam dewan keamanan dewan teror</td>\n",
       "      <td>non_clickbait</td>\n",
       "    </tr>\n",
       "    <tr>\n",
       "      <th>18333</th>\n",
       "      <td>ibnu al banna  matematikus legendaris maroko</td>\n",
       "      <td>non_clickbait</td>\n",
       "    </tr>\n",
       "    <tr>\n",
       "      <th>18334</th>\n",
       "      <td>ilmu bermanfaat</td>\n",
       "      <td>non_clickbait</td>\n",
       "    </tr>\n",
       "  </tbody>\n",
       "</table>\n",
       "<p>17350 rows × 2 columns</p>\n",
       "</div>"
      ],
      "text/plain": [
       "                                                   judul          label\n",
       "0       dihantam ombak  kapal tenggelam danau toba  p...      clickbait\n",
       "1               kuasa hukum   dosen usu tulis status bom      clickbait\n",
       "2       mantap    tayang hari perdana  jumlah penonto...      clickbait\n",
       "3      sedihnya    kak seto menangis kali gara gara anak      clickbait\n",
       "4       undangan buat warga medan  acara launching fi...      clickbait\n",
       "...                                                  ...            ...\n",
       "18330                      jumatan capitol hill difitnah  non_clickbait\n",
       "18331                   capitol hill jadi tempat jumatan  non_clickbait\n",
       "18332           gaddafi kecam dewan keamanan dewan teror  non_clickbait\n",
       "18333      ibnu al banna  matematikus legendaris maroko   non_clickbait\n",
       "18334                                    ilmu bermanfaat  non_clickbait\n",
       "\n",
       "[17350 rows x 2 columns]"
      ]
     },
     "execution_count": 8,
     "metadata": {},
     "output_type": "execute_result"
    }
   ],
   "source": [
    "df"
   ]
  },
  {
   "cell_type": "code",
   "execution_count": 9,
   "metadata": {
    "_uuid": "a1a345c1683e2fcc7173ecae867a5da87f2dde24"
   },
   "outputs": [],
   "source": [
    "X = df.judul\n",
    "Y = df.label\n",
    "le = LabelEncoder()\n",
    "Y = le.fit_transform(Y)\n",
    "Y = Y.reshape(-1,1)"
   ]
  },
  {
   "cell_type": "markdown",
   "metadata": {
    "_uuid": "150e244a39b814d8a41bbe0e419bc5f28e457dd6"
   },
   "source": [
    "Split into training and test data."
   ]
  },
  {
   "cell_type": "code",
   "execution_count": 10,
   "metadata": {
    "_uuid": "aa3386af09469682c66cc53a1830a4e42f0e70b6",
    "scrolled": true
   },
   "outputs": [],
   "source": [
    "X_train,X_test,Y_train,Y_test = train_test_split(X,Y,test_size=0.2)"
   ]
  },
  {
   "cell_type": "code",
   "execution_count": 12,
   "metadata": {},
   "outputs": [
    {
     "data": {
      "text/plain": [
       "11327                         gempa aceh telan korban jiwa\n",
       "9897              asus pastikan bawa zenfone 5 indonesia  \n",
       "450               sabu malaysia dipasok melalui jalur laut\n",
       "3509          benarkah beras menyelamatkan ponsel basah   \n",
       "4297      david beckham blusukan kampung semarang temui...\n",
       "                               ...                        \n",
       "16752     zainuddin mz  sejak kecil bakat dakwahnya ter...\n",
       "796               tanggapan suami arzetti kasus istrinya  \n",
       "17641    akun facebook lomba karikatur nabi muhammad di...\n",
       "9029     portugal ubah tiga susunan pemain lawan uruguay  \n",
       "3487          video ungkapan hati korban asap tebal riau  \n",
       "Name: judul, Length: 3470, dtype: object"
      ]
     },
     "execution_count": 12,
     "metadata": {},
     "output_type": "execute_result"
    }
   ],
   "source": [
    "X_test"
   ]
  },
  {
   "cell_type": "markdown",
   "metadata": {
    "_uuid": "c5378d55c271e01480c1ac07f94ff99a80f900d6"
   },
   "source": [
    "### Process the data\n",
    "* Tokenize the data and convert the text to sequences.\n",
    "* Add padding to ensure that all the sequences have the same shape.\n",
    "* There are many ways of taking the *max_len* and here an arbitrary length of 150 is chosen."
   ]
  },
  {
   "cell_type": "code",
   "execution_count": 13,
   "metadata": {
    "_uuid": "bdca14f2b8cd7bd7cb5ee66fd40ea522217c03c6"
   },
   "outputs": [],
   "source": [
    "max_words = 1000\n",
    "max_len = 150\n",
    "tok = Tokenizer(num_words=max_words)\n",
    "tok.fit_on_texts(X_train)\n",
    "sequences = tok.texts_to_sequences(X_train)\n",
    "sequences_matrix = sequence.pad_sequences(sequences,maxlen=max_len)"
   ]
  },
  {
   "cell_type": "code",
   "execution_count": 14,
   "metadata": {},
   "outputs": [
    {
     "data": {
      "text/plain": [
       "array([  0,   0,   0,   0,   0,   0,   0,   0,   0,   0,   0,   0,   0,\n",
       "         0,   0,   0,   0,   0,   0,   0,   0,   0,   0,   0,   0,   0,\n",
       "         0,   0,   0,   0,   0,   0,   0,   0,   0,   0,   0,   0,   0,\n",
       "         0,   0,   0,   0,   0,   0,   0,   0,   0,   0,   0,   0,   0,\n",
       "         0,   0,   0,   0,   0,   0,   0,   0,   0,   0,   0,   0,   0,\n",
       "         0,   0,   0,   0,   0,   0,   0,   0,   0,   0,   0,   0,   0,\n",
       "         0,   0,   0,   0,   0,   0,   0,   0,   0,   0,   0,   0,   0,\n",
       "         0,   0,   0,   0,   0,   0,   0,   0,   0,   0,   0,   0,   0,\n",
       "         0,   0,   0,   0,   0,   0,   0,   0,   0,   0,   0,   0,   0,\n",
       "         0,   0,   0,   0,   0,   0,   0,   0,   0,   0,   0,   0,   0,\n",
       "         0,   0,   0,   0,   0,   0,   0,   0,   0,   0,   0,   0,   0,\n",
       "         0,   0,   0,   0, 192,  70,  87])"
      ]
     },
     "execution_count": 14,
     "metadata": {},
     "output_type": "execute_result"
    }
   ],
   "source": [
    "sequences_matrix[1]"
   ]
  },
  {
   "cell_type": "markdown",
   "metadata": {
    "_uuid": "ad8706caa7a447fb49b44919fd109129e4082a93"
   },
   "source": [
    "### RNN\n",
    "Define the RNN structure."
   ]
  },
  {
   "cell_type": "code",
   "execution_count": 15,
   "metadata": {
    "_uuid": "78fff25b8be1de575bff071a2027f3dd2b11b911"
   },
   "outputs": [],
   "source": [
    "def RNN():\n",
    "    inputs = Input(name='inputs',shape=[max_len])\n",
    "    layer = Embedding(max_words,50,input_length=max_len)(inputs)\n",
    "    layer = LSTM(64)(layer)\n",
    "    #layer = Dense(256,name='FC1')(layer)\n",
    "    layer = Activation('relu')(layer)\n",
    "    layer = Dropout(0.5)(layer)\n",
    "    layer = Dense(1,name='out_layer')(layer)\n",
    "    layer = Activation('sigmoid')(layer)\n",
    "    model = Model(inputs=inputs,outputs=layer)\n",
    "    return model\n",
    "# def RNN():\n",
    "    \n",
    "#     # Input Layer\n",
    "#     inputs = Input(name='inputs',shape=[max_len])\n",
    "    \n",
    "    \n",
    "#     # Embedding layer\n",
    "#     # Argumen (a vector space of 50 dimensions)\n",
    "#     # Memiliki jumlah vocab = 1000 kata\n",
    "#     # Output 150 vector dengan masing2 berdimensi 50\n",
    "    \n",
    "#     layer = Embedding(max_words,50,input_length=max_len)(inputs)\n",
    "    \n",
    "#     # LSTM Layer dengan 64 memory unit (smart neuron)\n",
    "#     layer = LSTM(64)(layer)\n",
    "#     #layer = LSTM(64, dropout=0.2, recurrent_dropout=0.2)(layer)\n",
    "\n",
    "#     # Output Layer\n",
    "#     # Dense Layer 1 neuron untuk membuat keputusan 0 atau 1 (binary classification)\n",
    "#     layer = Dense(1,name='out_layer')(layer)\n",
    "#     layer = Activation('sigmoid')(layer)\n",
    "    \n",
    "#     model = Model(inputs=inputs,outputs=layer)\n",
    "#     return model"
   ]
  },
  {
   "cell_type": "markdown",
   "metadata": {
    "_uuid": "9d7c489e32bff6d12b8c08c07a91e9ba5d302e0e"
   },
   "source": [
    "Call the function and compile the model."
   ]
  },
  {
   "cell_type": "code",
   "execution_count": 16,
   "metadata": {
    "_uuid": "a0ede32d4127e8b4990fd74fe97fadef9e565d17"
   },
   "outputs": [
    {
     "name": "stdout",
     "output_type": "stream",
     "text": [
      "Model: \"model_1\"\n",
      "_________________________________________________________________\n",
      "Layer (type)                 Output Shape              Param #   \n",
      "=================================================================\n",
      "inputs (InputLayer)          (None, 150)               0         \n",
      "_________________________________________________________________\n",
      "embedding_1 (Embedding)      (None, 150, 50)           50000     \n",
      "_________________________________________________________________\n",
      "lstm_1 (LSTM)                (None, 64)                29440     \n",
      "_________________________________________________________________\n",
      "activation_1 (Activation)    (None, 64)                0         \n",
      "_________________________________________________________________\n",
      "dropout_1 (Dropout)          (None, 64)                0         \n",
      "_________________________________________________________________\n",
      "out_layer (Dense)            (None, 1)                 65        \n",
      "_________________________________________________________________\n",
      "activation_2 (Activation)    (None, 1)                 0         \n",
      "=================================================================\n",
      "Total params: 79,505\n",
      "Trainable params: 79,505\n",
      "Non-trainable params: 0\n",
      "_________________________________________________________________\n"
     ]
    }
   ],
   "source": [
    "model = RNN()\n",
    "model.summary()\n",
    "model.compile(loss='binary_crossentropy',optimizer='adam',metrics=['accuracy'])"
   ]
  },
  {
   "cell_type": "markdown",
   "metadata": {
    "_uuid": "bc2e0a3ec50d14c790b82d66f9255456ec6a69da"
   },
   "source": [
    "Fit on the training data."
   ]
  },
  {
   "cell_type": "code",
   "execution_count": 17,
   "metadata": {
    "_uuid": "98f6d6318352420ea49c532cda158f715f940f4b"
   },
   "outputs": [
    {
     "name": "stderr",
     "output_type": "stream",
     "text": [
      "c:\\users\\asus\\appdata\\local\\programs\\python\\python36\\lib\\site-packages\\tensorflow\\python\\framework\\indexed_slices.py:434: UserWarning: Converting sparse IndexedSlices to a dense Tensor of unknown shape. This may consume a large amount of memory.\n",
      "  \"Converting sparse IndexedSlices to a dense Tensor of unknown shape. \"\n"
     ]
    },
    {
     "name": "stdout",
     "output_type": "stream",
     "text": [
      "Train on 11104 samples, validate on 2776 samples\n",
      "Epoch 1/10\n",
      "11104/11104 [==============================] - 15s 1ms/step - loss: 0.6116 - accuracy: 0.6852 - val_loss: 0.4682 - val_accuracy: 0.7911\n",
      "Epoch 2/10\n",
      "11104/11104 [==============================] - 13s 1ms/step - loss: 0.4137 - accuracy: 0.8144 - val_loss: 0.3755 - val_accuracy: 0.8267\n",
      "Epoch 3/10\n",
      "11104/11104 [==============================] - 13s 1ms/step - loss: 0.3554 - accuracy: 0.8435 - val_loss: 0.3670 - val_accuracy: 0.8278\n",
      "Epoch 4/10\n",
      "11104/11104 [==============================] - 14s 1ms/step - loss: 0.3347 - accuracy: 0.8517 - val_loss: 0.3681 - val_accuracy: 0.8242\n",
      "Epoch 5/10\n",
      "11104/11104 [==============================] - 14s 1ms/step - loss: 0.3263 - accuracy: 0.8565 - val_loss: 0.3660 - val_accuracy: 0.8285\n",
      "Epoch 6/10\n",
      "11104/11104 [==============================] - 15s 1ms/step - loss: 0.3191 - accuracy: 0.8584 - val_loss: 0.3697 - val_accuracy: 0.8231\n",
      "Epoch 7/10\n",
      "11104/11104 [==============================] - 14s 1ms/step - loss: 0.3368 - accuracy: 0.8441 - val_loss: 0.3732 - val_accuracy: 0.8264\n",
      "Epoch 8/10\n",
      "11104/11104 [==============================] - 15s 1ms/step - loss: 0.3232 - accuracy: 0.8514 - val_loss: 0.3747 - val_accuracy: 0.8296\n",
      "Epoch 9/10\n",
      "11104/11104 [==============================] - 15s 1ms/step - loss: 0.3143 - accuracy: 0.8562 - val_loss: 0.3749 - val_accuracy: 0.8289\n",
      "Epoch 10/10\n",
      "11104/11104 [==============================] - 14s 1ms/step - loss: 0.3101 - accuracy: 0.8589 - val_loss: 0.3747 - val_accuracy: 0.8253\n"
     ]
    }
   ],
   "source": [
    "history = model.fit(sequences_matrix,Y_train,batch_size=128,epochs=10,\n",
    "          validation_split=0.2)\n",
    "\n",
    "# , callbacks=[EarlyStopping(monitor='val_loss',min_delta=0.0001)]\n",
    "# "
   ]
  },
  {
   "cell_type": "code",
   "execution_count": 18,
   "metadata": {},
   "outputs": [],
   "source": [
    "def plot_model_history(history):\n",
    "    fig, axs = plt.subplots(1,2,figsize=(15,5))\n",
    "    figx = plt.figure()\n",
    "    # summarize history for accuracy\n",
    "   \n",
    "    axs[0].plot(range(1,len(history.history['accuracy'])+1),np.array(history.history['accuracy'])*100,'r',linewidth=3.0)\n",
    "    axs[0].plot(range(1,len(history.history['val_accuracy'])+1),np.array(history.history['val_accuracy'])*100,'b',linewidth=3.0)\n",
    "    axs[0].set_title('Accuracy Curve', fontsize = 16)\n",
    "    axs[0].set_ylabel('Accuracy')\n",
    "    axs[0].set_xlabel('Epoch')\n",
    "    axs[0].set_xticks(np.arange(1,len(history.history['accuracy'])+1),len(history.history['accuracy'])/10)\n",
    "    axs[0].legend(['train', 'val'], loc='best')\n",
    "    # summarize history for loss\n",
    "    axs[1].plot(range(1,len(history.history['loss'])+1),np.array(history.history['loss'])*100,'r',linewidth=3.0)\n",
    "    axs[1].plot(range(1,len(history.history['val_loss'])+1),np.array(history.history['val_loss'])*100, 'b',linewidth=3.0)\n",
    "    axs[1].set_title('Loss Curve', fontsize = 16)\n",
    "    axs[1].set_ylabel('Loss')\n",
    "    axs[1].set_xlabel('Epoch')\n",
    "    axs[1].set_xticks(np.arange(1,len(history.history['loss'])+1),len(history.history['loss'])/10)\n",
    "    axs[1].legend(['train', 'val'], loc='best')\n",
    "    #figx.savefig('first_fix.png')\n",
    "    plt.show()"
   ]
  },
  {
   "cell_type": "code",
   "execution_count": 19,
   "metadata": {},
   "outputs": [
    {
     "name": "stderr",
     "output_type": "stream",
     "text": [
      "c:\\users\\asus\\appdata\\local\\programs\\python\\python36\\lib\\site-packages\\ipykernel_launcher.py:11: MatplotlibDeprecationWarning: Passing the minor parameter of set_ticks() positionally is deprecated since Matplotlib 3.2; the parameter will become keyword-only two minor releases later.\n",
      "  # This is added back by InteractiveShellApp.init_path()\n",
      "c:\\users\\asus\\appdata\\local\\programs\\python\\python36\\lib\\site-packages\\ipykernel_launcher.py:19: MatplotlibDeprecationWarning: Passing the minor parameter of set_ticks() positionally is deprecated since Matplotlib 3.2; the parameter will become keyword-only two minor releases later.\n"
     ]
    },
    {
     "data": {
      "image/png": "[encoded data removed]",
      "text/plain": [
       "<Figure size 1080x360 with 2 Axes>"
      ]
     },
     "metadata": {
      "needs_background": "light"
     },
     "output_type": "display_data"
    },
    {
     "data": {
      "text/plain": [
       "<Figure size 432x288 with 0 Axes>"
      ]
     },
     "metadata": {},
     "output_type": "display_data"
    }
   ],
   "source": [
    "plot_model_history(history)"
   ]
  },
  {
   "cell_type": "code",
   "execution_count": 20,
   "metadata": {},
   "outputs": [
    {
     "name": "stderr",
     "output_type": "stream",
     "text": [
      "c:\\users\\asus\\appdata\\local\\programs\\python\\python36\\lib\\site-packages\\ipykernel_launcher.py:11: UserWarning: Matplotlib is currently using agg, which is a non-GUI backend, so cannot show the figure.\n",
      "  # This is added back by InteractiveShellApp.init_path()\n"
     ]
    },
    {
     "data": {
      "image/png": "[encoded data removed]",
      "text/plain": [
       "<Figure size 432x288 with 1 Axes>"
      ]
     },
     "metadata": {
      "needs_background": "light"
     },
     "output_type": "display_data"
    }
   ],
   "source": [
    "plt.switch_backend('agg')\n",
    "\n",
    "fig1 = plt.figure()\n",
    "plt.plot(history.history['loss'],'r',linewidth=3.0)\n",
    "plt.plot(history.history['val_loss'],'b',linewidth=3.0)\n",
    "plt.legend(['Training loss', 'Validation Loss'],fontsize=18)\n",
    "plt.xlabel('Epochs ',fontsize=16)\n",
    "plt.ylabel('Loss',fontsize=16)\n",
    "plt.title('Loss Curves :RNN',fontsize=16)\n",
    "#fig1.savefig('loss_rnn1.png')\n",
    "plt.show()\n",
    "\n",
    "# from matplotlib import pyplot\n",
    "# pyplot.plot(history.history['loss'])\n",
    "# pyplot.plot(history.history['val_loss'])\n",
    "# pyplot.title('model train vs validation loss')\n",
    "# pyplot.ylabel('loss')\n",
    "# pyplot.xlabel('epoch')\n",
    "# pyplot.legend(['train', 'validation'], loc='upper left')\n",
    "# pyplot.show()"
   ]
  },
  {
   "cell_type": "code",
   "execution_count": 21,
   "metadata": {},
   "outputs": [
    {
     "name": "stderr",
     "output_type": "stream",
     "text": [
      "c:\\users\\asus\\appdata\\local\\programs\\python\\python36\\lib\\site-packages\\ipykernel_launcher.py:11: UserWarning: Matplotlib is currently using agg, which is a non-GUI backend, so cannot show the figure.\n",
      "  # This is added back by InteractiveShellApp.init_path()\n"
     ]
    },
    {
     "data": {
      "image/png": "[encoded data removed]",
      "text/plain": [
       "<Figure size 432x288 with 1 Axes>"
      ]
     },
     "metadata": {
      "needs_background": "light"
     },
     "output_type": "display_data"
    }
   ],
   "source": [
    "plt.switch_backend('agg')\n",
    "\n",
    "fig1 = plt.figure()\n",
    "plt.plot(history.history['accuracy'],'r',linewidth=3.0)\n",
    "plt.plot(history.history['val_accuracy'],'b',linewidth=3.0)\n",
    "plt.legend(['Training Accuracy', 'Validation Accuracy'],fontsize=18)\n",
    "plt.xlabel('Epochs ',fontsize=16)\n",
    "plt.ylabel('Accuracy',fontsize=16)\n",
    "plt.title('Accuracy Curves :RNN',fontsize=16)\n",
    "#fig1.savefig('acc_rnn1.png')\n",
    "plt.show()\n",
    "\n",
    "# from matplotlib import pyplot\n",
    "# pyplot.plot(history.history['acc'])\n",
    "# pyplot.plot(history.history['val_acc'])\n",
    "# pyplot.title('model train vs validation acc')\n",
    "# pyplot.ylabel('acc')\n",
    "# pyplot.xlabel('epoch')\n",
    "# pyplot.legend(['train', 'validation'], loc='upper left')\n",
    "# pyplot.show()"
   ]
  },
  {
   "cell_type": "markdown",
   "metadata": {
    "_uuid": "448ab38c2f804e47df48eb45385393aaec168032"
   },
   "source": [
    "The model performs well on the validation set and this configuration is chosen as the final model."
   ]
  },
  {
   "cell_type": "markdown",
   "metadata": {
    "_uuid": "ccca7839445a7d663ee7bc425a16e247df3e0e5b"
   },
   "source": [
    "Process the test set data."
   ]
  },
  {
   "cell_type": "code",
   "execution_count": 22,
   "metadata": {},
   "outputs": [
    {
     "data": {
      "text/plain": [
       "11327                         gempa aceh telan korban jiwa\n",
       "9897              asus pastikan bawa zenfone 5 indonesia  \n",
       "450               sabu malaysia dipasok melalui jalur laut\n",
       "3509          benarkah beras menyelamatkan ponsel basah   \n",
       "4297      david beckham blusukan kampung semarang temui...\n",
       "                               ...                        \n",
       "16752     zainuddin mz  sejak kecil bakat dakwahnya ter...\n",
       "796               tanggapan suami arzetti kasus istrinya  \n",
       "17641    akun facebook lomba karikatur nabi muhammad di...\n",
       "9029     portugal ubah tiga susunan pemain lawan uruguay  \n",
       "3487          video ungkapan hati korban asap tebal riau  \n",
       "Name: judul, Length: 3470, dtype: object"
      ]
     },
     "execution_count": 22,
     "metadata": {},
     "output_type": "execute_result"
    }
   ],
   "source": [
    "X_test"
   ]
  },
  {
   "cell_type": "code",
   "execution_count": 23,
   "metadata": {
    "_uuid": "80036135a11387d952becaf2fecf653a65c02328"
   },
   "outputs": [],
   "source": [
    "test_sequences = tok.texts_to_sequences(X_test)\n",
    "test_sequences_matrix = sequence.pad_sequences(test_sequences,maxlen=max_len)"
   ]
  },
  {
   "cell_type": "markdown",
   "metadata": {
    "_uuid": "0b60d7d2bcc0aabf77c8c8766c59f8d73cd34547"
   },
   "source": [
    "Evaluate the model on the test set."
   ]
  },
  {
   "cell_type": "code",
   "execution_count": 24,
   "metadata": {
    "_uuid": "0db183049b59d96388812a98efedfc865b7cc141"
   },
   "outputs": [
    {
     "name": "stdout",
     "output_type": "stream",
     "text": [
      "3470/3470 [==============================] - 2s 513us/step\n"
     ]
    }
   ],
   "source": [
    "accr = model.evaluate(test_sequences_matrix,Y_test)"
   ]
  },
  {
   "cell_type": "code",
   "execution_count": 25,
   "metadata": {},
   "outputs": [
    {
     "data": {
      "text/plain": [
       "array([[0.8322987 ],\n",
       "       [0.6947391 ],\n",
       "       [0.8917352 ],\n",
       "       ...,\n",
       "       [0.89456815],\n",
       "       [0.6550242 ],\n",
       "       [0.10899132]], dtype=float32)"
      ]
     },
     "execution_count": 25,
     "metadata": {},
     "output_type": "execute_result"
    }
   ],
   "source": [
    "predik = model.predict(test_sequences_matrix)\n",
    "predik[0:]"
   ]
  },
  {
   "cell_type": "code",
   "execution_count": 26,
   "metadata": {
    "_uuid": "3e121ab83f4a0b9f7376ab24aa25d67051171f89",
    "scrolled": true
   },
   "outputs": [
    {
     "name": "stdout",
     "output_type": "stream",
     "text": [
      "Test set\n",
      "  Loss: 0.380\n",
      "  Accuracy: 0.822\n"
     ]
    }
   ],
   "source": [
    "print('Test set\\n  Loss: {:0.3f}\\n  Accuracy: {:0.3f}'.format(accr[0],accr[1]))"
   ]
  },
  {
   "cell_type": "code",
   "execution_count": 27,
   "metadata": {},
   "outputs": [],
   "source": [
    "model_json = model.to_json()\n",
    "with open(\"model.json\", \"w\") as json_file:\n",
    "    json_file.write(model_json)\n",
    "    model.save_weights('clickbait_lstm_model.h5')"
   ]
  },
  {
   "cell_type": "code",
   "execution_count": 28,
   "metadata": {},
   "outputs": [],
   "source": [
    "from keras.models import model_from_json\n",
    "#load json file\n",
    "json_file = open(\"model.json\", \"r\")\n",
    "loaded_model_json = json_file.read()\n",
    "json_file.close()\n",
    "\n",
    "#load weight\n",
    "model = model_from_json(loaded_model_json)\n",
    "model.load_weights(\"clickbait_lstm_model.h5\")"
   ]
  },
  {
   "cell_type": "code",
   "execution_count": 29,
   "metadata": {},
   "outputs": [
    {
     "data": {
      "text/plain": [
       "array([[  0,   0,   0, ...,   0,  90, 552],\n",
       "       [  0,   0,   0, ...,  36, 903,  18],\n",
       "       [  0,   0,   0, ..., 901, 280, 191],\n",
       "       ...,\n",
       "       [  0,   0,   0, ..., 494, 437, 633],\n",
       "       [  0,   0,   0, ..., 494, 767, 136],\n",
       "       [  0,   0,   0, ..., 110,  37, 260]])"
      ]
     },
     "execution_count": 29,
     "metadata": {},
     "output_type": "execute_result"
    }
   ],
   "source": [
    "file = pd.read_csv('judul_24.csv')\n",
    "file_series = file.T.squeeze()\n",
    "file_x = tok.texts_to_sequences(file_series)\n",
    "file_sequences_matrix = sequence.pad_sequences(file_x,maxlen=max_len)\n",
    "\n",
    "file_sequences_matrix"
   ]
  },
  {
   "cell_type": "code",
   "execution_count": 30,
   "metadata": {},
   "outputs": [
    {
     "data": {
      "text/plain": [
       "array([['JPU Simalungun Permainkan Pasal Dakwaan, Bakal Dilapor ke Kajati',\n",
       "        'clickbait'],\n",
       "       ['Terciduk Usai Beraksi, 2 Begal Diamankan Polisi', 'clickbait'],\n",
       "       ['Kategori PAAR, Desa Marendal II Nominasi Terbaik Tingkat Nasional',\n",
       "        'non-clickbait'],\n",
       "       ['Polisi Ringkus Terduga Pembunuh Sadis di Kebun Sawit Namorube',\n",
       "        'clickbait'],\n",
       "       ['Hari Veteran Nasional Diperingati di Gedung Yudha Bhakti LVRI Deliserdang',\n",
       "        'non-clickbait'],\n",
       "       ['Minta Uang Tak Dikasih, Pemuda Ini Pukuli Ayah Angkatnya',\n",
       "        'clickbait'],\n",
       "       ['Tabrak Mobil Double Cabin, Pemuda Simalungun Tewas Mengenaskan',\n",
       "        'clickbait'],\n",
       "       ['2 Lagi Korban Hanyut di Pemandian Bedeng Sungai Asahan Ditemukan',\n",
       "        'clickbait'],\n",
       "       ['Pengedar Sabu di Gang Jati, Dibekuk Tim Pegasus Polsek Medan Area',\n",
       "        'clickbait'],\n",
       "       ['Sekwan DPRD Deliserdang Layani Warga di Warung Dhuafa PDPM',\n",
       "        'clickbait'],\n",
       "       ['Kerjasama dengan Dinsos, Anggota DPRD Deliserdang Bantu Penderita Diabetes',\n",
       "        'non-clickbait'],\n",
       "       ['Bupati Lepas Kontingen Kwartir Deliserdang Menuju Malang: “Banggalah Menjadi Anggota Pramuka!”',\n",
       "        'non-clickbait'],\n",
       "       ['Elakkan Sepeda Motor, Angkot KPUM 65 ‘Panjat’ Median Jalan',\n",
       "        'clickbait'],\n",
       "       ['Hanyut di Pemandian Bedeng, Jasad Maulida Ditemukan di Bawah Jembatan',\n",
       "        'non-clickbait'],\n",
       "       ['Terjerat OTT, 3 Pegawai Inspektorat Batubara dan Kades Durian Terancam 5 Tahun Bui',\n",
       "        'non-clickbait'],\n",
       "       ['Di SMP Negeri 2 Girsang Ternyata Banyak Pungutan', 'clickbait'],\n",
       "       ['Sambut Asian Games 2018, SMPN 2 Girsang Kutip Rp200 Ribu/Siswa Kelas IX Beli Baju Olahraga',\n",
       "        'non-clickbait'],\n",
       "       ['3 Orang Diduga Pegawai Inspektorat, 1 Kades di Batubara Terjaring OTT',\n",
       "        'non-clickbait'],\n",
       "       ['Sebulan Dicari Polisi Usai Mencuri, Pemuda Ini Terciduk Setelah Dilaporkan Warga',\n",
       "        'clickbait'],\n",
       "       ['Hujan Deras Jaga Warung, Misnan Tewas Disambar Petir',\n",
       "        'non-clickbait'],\n",
       "       ['JPU Simalungun Permainkan Pasal Dakwaan, Bakal Dilapor ke Kajati',\n",
       "        'clickbait'],\n",
       "       ['Terciduk Usai Beraksi, 2 Begal Diamankan Polisi', 'clickbait'],\n",
       "       ['Kategori PAAR, Desa Marendal II Nominasi Terbaik Tingkat Nasional',\n",
       "        'non-clickbait'],\n",
       "       ['Polisi Ringkus Terduga Pembunuh Sadis di Kebun Sawit Namorube',\n",
       "        'clickbait'],\n",
       "       ['Hari Veteran Nasional Diperingati di Gedung Yudha Bhakti LVRI Deliserdang',\n",
       "        'non-clickbait'],\n",
       "       ['Minta Uang Tak Dikasih, Pemuda Ini Pukuli Ayah Angkatnya',\n",
       "        'clickbait'],\n",
       "       ['Tabrak Mobil Double Cabin, Pemuda Simalungun Tewas Mengenaskan',\n",
       "        'clickbait'],\n",
       "       ['2 Lagi Korban Hanyut di Pemandian Bedeng Sungai Asahan Ditemukan',\n",
       "        'clickbait'],\n",
       "       ['Pengedar Sabu di Gang Jati, Dibekuk Tim Pegasus Polsek Medan Area',\n",
       "        'clickbait'],\n",
       "       ['Sekwan DPRD Deliserdang Layani Warga di Warung Dhuafa PDPM',\n",
       "        'clickbait'],\n",
       "       ['Kerjasama dengan Dinsos, Anggota DPRD Deliserdang Bantu Penderita Diabetes',\n",
       "        'non-clickbait'],\n",
       "       ['Bupati Lepas Kontingen Kwartir Deliserdang Menuju Malang: “Banggalah Menjadi Anggota Pramuka!”',\n",
       "        'non-clickbait'],\n",
       "       ['Elakkan Sepeda Motor, Angkot KPUM 65 ‘Panjat’ Median Jalan',\n",
       "        'clickbait'],\n",
       "       ['Hanyut di Pemandian Bedeng, Jasad Maulida Ditemukan di Bawah Jembatan',\n",
       "        'non-clickbait'],\n",
       "       ['Terjerat OTT, 3 Pegawai Inspektorat Batubara dan Kades Durian Terancam 5 Tahun Bui',\n",
       "        'non-clickbait'],\n",
       "       ['Di SMP Negeri 2 Girsang Ternyata Banyak Pungutan', 'clickbait'],\n",
       "       ['Sambut Asian Games 2018, SMPN 2 Girsang Kutip Rp200 Ribu/Siswa Kelas IX Beli Baju Olahraga',\n",
       "        'non-clickbait'],\n",
       "       ['3 Orang Diduga Pegawai Inspektorat, 1 Kades di Batubara Terjaring OTT',\n",
       "        'non-clickbait'],\n",
       "       ['Sebulan Dicari Polisi Usai Mencuri, Pemuda Ini Terciduk Setelah Dilaporkan Warga',\n",
       "        'clickbait'],\n",
       "       ['Hujan Deras Jaga Warung, Misnan Tewas Disambar Petir',\n",
       "        'non-clickbait'],\n",
       "       ['Dua Anak Bagan Asahan Ditangkap Jual Sabu, 1 Orang Simpan BB di Celana Dalam',\n",
       "        'clickbait'],\n",
       "       ['5 Personil Polsek Medan Area Dapat Penghargaan dari Kapolrestabes',\n",
       "        'clickbait'],\n",
       "       ['Tanpa Demokrat, Prabowo Deklarasikan Sandiaga Uno Sebagai Cawapres',\n",
       "        'non-clickbait'],\n",
       "       ['Hanyut di Pemandian Bedeng, 1 Mahasiswi UMN Ditemukan Meninggal Dunia',\n",
       "        'clickbait'],\n",
       "       ['Status Masih Proses Hukum, Puluhan Satpol PP Batal Gusur Pedagang Pasar Timah',\n",
       "        'non-clickbait'],\n",
       "       ['Modus Pinjam, Anak Medan 4 Kali Sukses Gelapkan Motor di Batubara, Terakhir Nabrak Polisi!',\n",
       "        'clickbait'],\n",
       "       ['DPRD Deliserdang Umumkan Bupati/Wakil Bupati Terpilih',\n",
       "        'clickbait'],\n",
       "       ['Mahasiswi UMN Hanyut: Maya Gadis Takut Berenang, Orangtua Berharap Jasad Anaknya Ditemukan',\n",
       "        'clickbait'],\n",
       "       ['Persiapan Perayaan HUT RI ke-73, Koramil II Parapat Latih Paskibra',\n",
       "        'non-clickbait'],\n",
       "       ['Bus Karya Agung Tabrak Pohon, 4 Penumpang Dilarikan ke RS',\n",
       "        'clickbait'],\n",
       "       ['Antar Batu-bata dari Sergai, Truk Fuso Terbalik di Jembatan Marsuse',\n",
       "        'clickbait'],\n",
       "       ['Dinas Perkim Deliserdang Segera Tata PKL Taman Buah',\n",
       "        'non-clickbait'],\n",
       "       ['4 Mahasiswa KKN UMN Al-Wasliyah dan Seorang Pelajar SMP Hanyut di Pemandian Bedeng Asahan',\n",
       "        'clickbait'],\n",
       "       ['Gara-gara Draft Banggar Berbeda, Dua Anggota Dewan Adu Argumen',\n",
       "        'clickbait'],\n",
       "       ['Leher Ditebas Parang, PNS Aceh Utara Tewas Bersimbah Darah',\n",
       "        'non-clickbait'],\n",
       "       ['Polres Simalungun Ungkap Sindikat Curanmor', 'non-clickbait'],\n",
       "       ['LPJ Pelaksanaan APBD Deliserdang TA 2017 Disetujui',\n",
       "        'non-clickbait'],\n",
       "       ['HUT GOPTKI ke-61 Tingkat Kabupaten Deliserdang Dimeriahkan Lomba Pidato',\n",
       "        'non-clickbait'],\n",
       "       ['Pegang Sabu, Nelayan Ini Istirahat Panjang Melaut', 'clickbait'],\n",
       "       ['Polres Batubara Bongkar 12 Jaringan Narkoba, 22 Tersangka Diamankan, 5 Ditembak',\n",
       "        'clickbait'],\n",
       "       ['Proyek RSUD Sidimpuan Disebut Bermasalah, TP4D dan APIP Dinilai Tak Mampu Cegah KKN',\n",
       "        'non-clickbait'],\n",
       "       ['8 Bulan Kabur, Satu Lagi Begal Anggota Geng Raja Ditembak Mati, Polisi Masih Buru 1 Lainnya',\n",
       "        'non-clickbait'],\n",
       "       ['Miris! Orok 6 Bulan Dibuang di Kebun Ubi (Dimasukkan Dalam Kendi dan Ditaburi Bunga)',\n",
       "        'clickbait'],\n",
       "       ['11 Rumah Hangus di Simalungun, Warga dan Polisi Susah Payah Memadamkan Api',\n",
       "        'non-clickbait'],\n",
       "       ['Terkait Orasi di Sentul, Relawan ‘Die Hard Jokowi’ Tantang Debat Terbuka Ormas Pelapor',\n",
       "        'non-clickbait'],\n",
       "       ['Tinggalkan Sabu di Bandara Iskandar Muda, Pria Ini Diamankan di Kualanamu',\n",
       "        'clickbait'],\n",
       "       ['Sempat Viral di Medsos, Duo Maling Remaja Diringkus Polisi Binjai, 1 Orang Ditembak',\n",
       "        'clickbait'],\n",
       "       ['Dipergoki Polisi Lompat Pagar Rumah Warga, Spesialis Bongkar Rumah dan Curanmor Gol!',\n",
       "        'clickbait'],\n",
       "       ['Kades Bandar Khalipah Paparkan Keberhasilan Tingkat Nasional',\n",
       "        'non-clickbait'],\n",
       "       ['Proyek RSUD Padangsidimpuan, Kepala Inspektorat Tidak Tahu?',\n",
       "        'clickbait'],\n",
       "       ['Bupati Perintahkan Cek PKL yang Kumuh di Taman Buah Lubukpakam',\n",
       "        'clickbait'],\n",
       "       ['Pagi-pagi Buta Disergap dan Dibacoki Perampok di Rumah Sendiri, Sitanggang Kritis, Uang Gereja dan Hasil Sawit Raib',\n",
       "        'non-clickbait'],\n",
       "       ['Temuan Mayat di Ladang Sawit Namorube, Korban Diduga Pensiunan TNI AU Lanud Soewondo',\n",
       "        'non-clickbait'],\n",
       "       ['3 Penyabu Divonis 7 Tahun Penjara, Denda Rp1 Miliar',\n",
       "        'non-clickbait'],\n",
       "       ['Spesialis Bongkar Rumah Ditangkap, Rp300 Juta Hasil Jarahan Dibelikan Angkot dan Tanah',\n",
       "        'non-clickbait'],\n",
       "       ['KPU dan Pemkab Deliserdang Bertekad Sukseskan Pileg Dan Pilpres 2019',\n",
       "        'non-clickbait'],\n",
       "       ['Positif Narkoba, 3 Teman Camat Sinunukan Madina, Hanya Diancam 2 Tahun',\n",
       "        'non-clickbait'],\n",
       "       ['Truk Muatan Batu Bata Terbalik di Tikungan', 'clickbait'],\n",
       "       ['Kasus Dugaan KDRT Kades Bulan-bulan, Diperiksa Beberapa Jam Tapi Tak ‘Lengket’',\n",
       "        'clickbait'],\n",
       "       ['Curi  HP di Bandara, Mahasiswa Asal Tanjungbalai dan Warga Sumbar Diboyong Polisi',\n",
       "        'non-clickbait'],\n",
       "       ['Pedagang Ikan Ditemukan Tewas Dalam Selokan, Diduga Tabrak Lari',\n",
       "        'non-clickbait'],\n",
       "       ['Seminggu Lalu Nyasar di Medan Baru, Sekarang di Desa Laut Dendang, Keluarga Siapa Ini?',\n",
       "        'clickbait'],\n",
       "       ['Granat Asap Ditemukan di Kawatuna Palu', 'non-clickbait'],\n",
       "       ['45 Pelajar Deliserdang Ikuti Diklat Paskibraka',\n",
       "        'non-clickbait'],\n",
       "       ['Sambut HUT RI ke-73, Kaum Ibu Deliserdang Gelar Pengajian dan Zikir Akbar',\n",
       "        'clickbait'],\n",
       "       ['3 Dusun di Kecamatan Saipar Dolok Hole Dapat Dialiri Listrik',\n",
       "        'clickbait'],\n",
       "       ['Kepala A Ho Berdarah Dilempar Pakai Botol, A Kiong Diborgol Polisi',\n",
       "        'non-clickbait'],\n",
       "       ['Ini Dia! Spesialis Bongkar Toko di Pasar Sukaramai',\n",
       "        'non-clickbait'],\n",
       "       ['Alamak…! Sarjana Peternakan Ini Sudah 3 Tahun Buka Praktik Sebagai Dokter Gigi',\n",
       "        'clickbait'],\n",
       "       ['Penumpang Bus Betahamu Meregang Nyawa di Halte Bis',\n",
       "        'non-clickbait'],\n",
       "       ['Jaringan Medan Jual Sabu di Kisaran, 2 Pengedarnya Diciduk',\n",
       "        'clickbait'],\n",
       "       ['Mourinho ‘Warning’ Manchester United', 'non-clickbait'],\n",
       "       ['Perkenalkan Layanan BOSQU, IndiHome Berikan Wawasan Peluang Usaha di Era Ekonomi Digital',\n",
       "        'non-clickbait'],\n",
       "       ['Bobol Gudang Alfamart Berdua, Pria Ini Ditangkap Karyawan, Temannya Pakai Jurus Langkah Seribu',\n",
       "        'clickbait'],\n",
       "       ['Istirahat Nyangkol, Nunggu Sholat Ashar di Masjid, Pak Ustadz Meninggal Dunia',\n",
       "        'clickbait'],\n",
       "       ['Sudah Dilaporkan, Polisi Belum Bertindak, Preman Berklewang Resahkan Warga Tembung',\n",
       "        'non-clickbait'],\n",
       "       ['Terkait Lokasi yang Kumuh, Pemkab Deliserdang Janji akan Tata PKL Taman Buah',\n",
       "        'non-clickbait'],\n",
       "       ['Pria Pakai Sabuk PDH TNI Ditemukan Tewas di Kebun Sawit, Kepala Terpisah Sejauh 15 Meter',\n",
       "        'clickbait'],\n",
       "       ['Kementerian Perdagangan Puji Pertanian Organik Sergai',\n",
       "        'non-clickbait'],\n",
       "       ['Tasya Kamila Resmi Jadi Istri Randi Bachtiar', 'clickbait'],\n",
       "       ['Duo Begal Modus ‘Tabrak Ibu’ Dilibas Tim Pegasus',\n",
       "        'non-clickbait'],\n",
       "       ['Car Free Day PMD Deliserdang: Teruslah Berolahraga !',\n",
       "        'non-clickbait'],\n",
       "       ['Koptan dan Nelayan Desa Pematang Biara Tak Pernah Dapat Bantuan',\n",
       "        'non-clickbait'],\n",
       "       ['Nek Fatimah Ditemukan Tewas di Depan Kamar, Diduga Diperkosa Sebelum Dibunuh',\n",
       "        'clickbait'],\n",
       "       ['Aniaya Abang Ipar Sampai Meninggal Dunia, 2 Bersaudara Ini ‘Dijemput’ Polisi dari Aceh',\n",
       "        'clickbait'],\n",
       "       ['Lelaki Tua Meregang Nyawa di Emperan Kantor', 'non-clickbait'],\n",
       "       ['Kurang dari 2 Jam, Pelaku Penikaman Buruh Angkut Bulog Asahan Diantar Polisi ke RS',\n",
       "        'non-clickbait'],\n",
       "       ['Ditikam Tetangga, Buruh Angkut di Gudang Bulog Asahan Tewas',\n",
       "        'non-clickbait'],\n",
       "       ['2 Oknum Polrestabes Medan Terkena OTT Satgas Saber Pungli',\n",
       "        'clickbait'],\n",
       "       ['Tindaklanjuti Permintaan Warga, PLN Survei ke Desa Kuba Sentang',\n",
       "        'non-clickbait'],\n",
       "       ['Nek Imai Akhiri Hidup dengan Seutas Tali', 'non-clickbait'],\n",
       "       ['Pengunjung Taman Buah Mengeluh, Lokasi Kumuh, Harga Makanan Mencekik Leher',\n",
       "        'non-clickbait'],\n",
       "       ['Hindari Truk Tangki, Bus Bintang Utara Tabrak 3 Rumah',\n",
       "        'clickbait'],\n",
       "       ['Kasihannya Ibu Ini! Jauh-jauh dari Medan ke Bali, Tiba di Sana Anak Kandung Malu Bertemu',\n",
       "        'clickbait'],\n",
       "       ['Pusing Anaknya Kecanduan Narkoba, Ibu Hajjah Mengadu ke Polisi',\n",
       "        'clickbait'],\n",
       "       ['Setahun Lalu Tinju Pelayan Kafe, Ketua Ranting PP Laut Dendang Akhirnya Ditangkap',\n",
       "        'non-clickbait'],\n",
       "       ['Anaknya Dikabarkan Dimassa Lantaran Curi Burung Kacer, Bapak Ini Datangi Kantor Polisi',\n",
       "        'clickbait'],\n",
       "       ['Sociopreneur Campp (SPC) 2018, Bangun Jiwa Kontributif Generasi Muda Indonesia',\n",
       "        'non-clickbait'],\n",
       "       ['Berhasil Lestarikan Kebudayaan, Mendagri Puji Bupati Sergai',\n",
       "        'non-clickbait'],\n",
       "       ['Pemuda Enam Desa di Kecamatan Galang Dukung Bayu Sumantri Agung Satu Periode Lagi',\n",
       "        'clickbait'],\n",
       "       ['Kreta Senggol Mobil, Pensiunan TNI Dipukuli, Warga Marah, Balik Gebuki Pengemudi Mobil',\n",
       "        'clickbait'],\n",
       "       ['Lapor Pak Polisi! Pecandu Sabu Ditangkap di Rumahnya',\n",
       "        'non-clickbait'],\n",
       "       ['Polisi Tembak Mati Seorang Komplotan Begal yang Tewaskan Loei Wie Loen',\n",
       "        'non-clickbait'],\n",
       "       ['Berselisih di Jalan Sempit, Truk Colt Diesel ‘Terjun’ ke Sungai',\n",
       "        'clickbait'],\n",
       "       ['Lepas Jamaah Calhaj Gelombang II Kloter 13, Ini Pesan Wakil Bupati Deliserdang',\n",
       "        'clickbait'],\n",
       "       ['DPRD Siantar Didesak Paripurnakan Penistaan Suku Simalungun',\n",
       "        'non-clickbait'],\n",
       "       ['Sekjen PAN Sumut Apresiasi Waroeng Dhuafa PDPM',\n",
       "        'non-clickbait'],\n",
       "       ['Digrebek di Dalam Rumah, Kocik Terciduk Pegang Sabu',\n",
       "        'clickbait'],\n",
       "       ['Bandar Sabu dan 3 Pemakai Digrebek Polisi', 'non-clickbait'],\n",
       "       ['Bantu Pemulihan Mental Korban Kekerasan Seksual, Polsek Kutalimbaru Gandeng P2TP2A',\n",
       "        'non-clickbait'],\n",
       "       ['Ngebut di Jalan, Pengendara Mio Tewas Ditabrak Supra',\n",
       "        'clickbait'],\n",
       "       ['Kunjungi Sahabat Lama di Semarang, Soekirman Dapat Hadiah Ini',\n",
       "        'clickbait'],\n",
       "       ['Gara-gara Cat Loreng, Dua OKP Sempat Bentrok, Didamaikan Polisi Ganti Warna Putih',\n",
       "        'clickbait'],\n",
       "       ['Kenal di Facebook, Pemuda Tapteng Diajak Edarkan Upal, Gol!',\n",
       "        'non-clickbait'],\n",
       "       ['Rusuh Jelang Duel Europa League, 2 Orang Ditikam di Glasgow',\n",
       "        'non-clickbait'],\n",
       "       ['Setahun Usai Rampok Honda CB 150 R, Pemuda Pantai Labu Ditangkap Polisi',\n",
       "        'non-clickbait'],\n",
       "       ['Kesal Ayahnya Sering Dipukuli, Pemuda Ini Habisi Abang Kandung',\n",
       "        'clickbait'],\n",
       "       ['Polisi Tangkap Terduga Pemerkosa dan Penggorok Leher Siswi SMP di Kutalimbaru',\n",
       "        'clickbait'],\n",
       "       ['Kasus KDRT Sedang Diproses, Kades Bulan-Bulan Bakal Dilapor Lagi (Gara-gara Istri Baru)',\n",
       "        'clickbait'],\n",
       "       ['Kutip Uang Komite dan Baju Olahraga, Kasek SMA N I Uluan Segera Dipanggil UPT Disdik Provsu Tobasa',\n",
       "        'clickbait'],\n",
       "       ['2 Hari, Sat Narkoba Polres Siantar Ringkus 6 Pengedar Narkoba',\n",
       "        'non-clickbait'],\n",
       "       ['Terduga Pembunuh Ardi Simanjuntak Ditangkap di Medan',\n",
       "        'clickbait'],\n",
       "       ['Kawanan Rampok Bersenjata Klewang di PT Palm Trimitra Indotama Diringkus Polisi',\n",
       "        'non-clickbait'],\n",
       "       ['3 Unit Rumah Asap PTPN Sarang Ginting Ludes Dilahap Api',\n",
       "        'non-clickbait'],\n",
       "       ['Kampung Narkoba Jalan Mesjid Taufiq dan Mapilindo Digrebek, 5 Orang Diamankan',\n",
       "        'clickbait'],\n",
       "       ['Buron Kasus Kredit Fiktif Bertahun-tahun, Mantan Kacab BRI Agro Pekanbaru Ditangkap di Medan',\n",
       "        'clickbait'],\n",
       "       ['Lerai Pertengkaran, Ketua RW di Tembung Diancam Bunuh',\n",
       "        'non-clickbait'],\n",
       "       ['Sergap Terduga Bandar Narkoba, Polisi Batubara Dihadang Warga',\n",
       "        'non-clickbait'],\n",
       "       ['Pulang Belanja Sabu, Nongkrong Depan Rumdis Walikota, Mahasiswan dan Pelajar Terciduk',\n",
       "        'non-clickbait'],\n",
       "       ['Mual-mual Usai Sarapan, 73 Santri Dilarikan ke Puskesmas',\n",
       "        'non-clickbait'],\n",
       "       ['KDRT di Tempat Tugas, PNS Dinas Perikanan Batubara: Aku Tak Mau Lagi Sama Dia!',\n",
       "        'clickbait'],\n",
       "       ['Tabrak Mobil dari Belakang, 2 Mahasiswa Asal Subulussalam Terkapar di Jalan Medan-Sidikalang',\n",
       "        'clickbait'],\n",
       "       ['Usung Tema UKM Indonesia Jaman Now, H Zainuddin Mars Buka Gebyar UKM 2018',\n",
       "        'non-clickbait'],\n",
       "       ['Polisi Ringkus Seorang Terduga Begal yang Menewaskan Loei Wie Loen',\n",
       "        'non-clickbait'],\n",
       "       ['BI Keluarkan Ketentuan IndONIA, Diharapkan Jadi Benchmark Rate Pasar Uang di Indonesia',\n",
       "        'non-clickbait'],\n",
       "       ['2 Sejoli Ditangkap, 4 Kg Sabu Dalam Kemasan ‘Kacang Garuda’ Gagal Terbang ke Makasar',\n",
       "        'clickbait'],\n",
       "       ['Polisi Nonton Film 22 Menit di Medan, 24 Sidang di PN Siantar Ditunda',\n",
       "        'clickbait'],\n",
       "       ['Dari Limbah Kulit Kerang Menjadi Maha Karya', 'non-clickbait'],\n",
       "       ['Pemkab Deliserdang Canangkan Kampanye Imunisasi MR',\n",
       "        'non-clickbait'],\n",
       "       ['Tiga Pekerja Sutet Meninggal Dunia, Keluarga Tolak Otopsi',\n",
       "        'clickbait'],\n",
       "       ['Ribuan Warga Deliserdang Sambut Obor Api Asian Games 2018',\n",
       "        'non-clickbait'],\n",
       "       ['Dinkes Batubara Targetkan 126.536 Imunisasi Campak dan Rubella',\n",
       "        'non-clickbait'],\n",
       "       ['Sadis…! Melawan Saat akan Diperkosa, Siswa SMP Digorok, Pelaku Diminta Segera Menyerah!',\n",
       "        'non-clickbait'],\n",
       "       ['Petugas Satpol PP Sergai Tunggang-langgang Kejar Ternak Babi, Ini Kata Warga pada Bupati',\n",
       "        'clickbait'],\n",
       "       ['4 Pekerja Kabel Sutet di Asahan Ditemukan Terkapar Dalam Tenda, 3 Tewas, 1 Kritis',\n",
       "        'clickbait'],\n",
       "       ['Manchester United Siapkan Zidane Sebagai Ganti Mourinho',\n",
       "        'non-clickbait'],\n",
       "       ['Razia Lalulintas Unik di Jalan TB Simatupang, Pengendara Patuh Dapat Hadiah (Tak Lengkap Kena Tilang Juga)',\n",
       "        'clickbait'],\n",
       "       ['Sergai Terus Lestarikan Kebudayaan', 'non-clickbait'],\n",
       "       ['Anak Elakkan Angkot, Ibu di Boncengan Jatuh! Tewas Terlindas Truk Kontainer',\n",
       "        'clickbait'],\n",
       "       ['Pelaku Bakar Diri di Gedung Mandiri Tunas Finance Akhirnya Meninggal Dunia',\n",
       "        'clickbait'],\n",
       "       ['Sim Salabim! Pasal Berubah, Adik Walikota Siantar Hanya Divonis 1 Tahun',\n",
       "        'non-clickbait'],\n",
       "       ['Dua ‘Wanita Jadi-jadian’ Ini Sikat Uang dan HP Milik Teman Kencannya',\n",
       "        'clickbait'],\n",
       "       ['Polda Sumut Bongkar Jaringan Pengedar Sabu Internasional, Sabu Seharga Rp66,47 M Disita',\n",
       "        'clickbait'],\n",
       "       ['Tiba di Sergai, Obor Asian Games 2018 Jadi Ajang Selfie',\n",
       "        'non-clickbait'],\n",
       "       ['Jambret Kambuhan Ditangkap Polisi, Kawannya Lolos',\n",
       "        'non-clickbait'],\n",
       "       ['Antuasias Pelajar Sambut Obor Asian Games 2018',\n",
       "        'non-clickbait'],\n",
       "       ['Pegang Sabu, 2 Nelayan Tanjungbalai ‘Berlabuh’ di Sel Polisi',\n",
       "        'clickbait'],\n",
       "       ['Malam Ini Obor Asian Games 2018 Singgah ke Sergai',\n",
       "        'non-clickbait'],\n",
       "       ['Pilkades Serentak Tahap III Batubara Perlu Ditinjau Ulang',\n",
       "        'non-clickbait'],\n",
       "       ['Aniaya Istri di Saat Kerja, Oknum Kades Bulan-bulan Terancam Masuk Bui',\n",
       "        'non-clickbait'],\n",
       "       ['Tragedi Gadis Cilik di Langkat! Berulangkali Diperkosa Ayah, Abang dan Paman Kandung',\n",
       "        'clickbait'],\n",
       "       ['Berada di Puncak Bukit, Ini Kediaman Ronaldo di Turin',\n",
       "        'clickbait'],\n",
       "       ['Everton Terdepan Dalam Perburuan Rojo', 'non-clickbait'],\n",
       "       ['Bahagia di Madrid, Gareth Bale Tal akan ke Manchester United',\n",
       "        'clickbait'],\n",
       "       ['Simpan Sabu di Rumah, Buruh Bangunan Ini Ditangkap Polisi',\n",
       "        'clickbait'],\n",
       "       ['Pemilik Lagi Opname di RSU Pirngadi, Rumah Terbakar',\n",
       "        'clickbait'],\n",
       "       ['Ditawari Hadiah untuk Pribadi dari Presiden, 4 Prajurit TNI Ini Minta Fasilitas Warga, Salut…!',\n",
       "        'clickbait'],\n",
       "       ['Maling Motor Warga Lagi Sholat, Rahmatullah Kena Azab Dunia',\n",
       "        'clickbait'],\n",
       "       ['Bupati Ashari Tambunan Lepas 126 Mahasiswa UNUSU KKN di Deliserdang',\n",
       "        'clickbait'],\n",
       "       ['Tiket Incess Seat Rp25 Juta Ludes, Konser Syahrini Segera Luncurkan Hot Seat Seharga Rp15 Juta!',\n",
       "        'clickbait'],\n",
       "       ['Sadis…! Pria Ini Gorok Leher Ibu Teman Sekampung Hingga Putus, Kepalanya Dibuang ke Sungai',\n",
       "        'clickbait'],\n",
       "       ['Istri Minta Cerai Dianiaya, Oknum Kades Bulan-bulan Batubara Dilapor ke Polisi',\n",
       "        'clickbait'],\n",
       "       ['Gudang Barang Bekas Terbakar di Kisaran, Ratusan Juta Ludes',\n",
       "        'clickbait'],\n",
       "       ['Terdesak Tebus Kalung Milik Istri, Sekuriti Podomoro City Nekat Merampok',\n",
       "        'clickbait'],\n",
       "       ['Berhasil Ungkap Kasus Pembunuhan di Hotel 61, Personel Polsek Medan Baru Dapat Penghargaan',\n",
       "        'clickbait'],\n",
       "       ['Tabligh Akbar dan Doa Bersama Polres Sergai, Bupati: Banyak Gunakan Jarum, Jauhi Gunting',\n",
       "        'non-clickbait'],\n",
       "       ['3 Begal Sadis Kisaran Diringkus Polisi', 'clickbait'],\n",
       "       ['Bupati Sergai Ir H Soekirman Terima Tenaga Nusantara Sehat',\n",
       "        'non-clickbait'],\n",
       "       ['Jelang Pelantikan, Bupati Batubara Terpilih Bentuk Tim Transisi',\n",
       "        'clickbait'],\n",
       "       ['Dimandikan Air Parit, Pejabat Kota Langsa dan Pasangannya Ternyata Sudah Nikah Siri',\n",
       "        'clickbait']], dtype=object)"
      ]
     },
     "execution_count": 30,
     "metadata": {},
     "output_type": "execute_result"
    }
   ],
   "source": [
    "prediksi = model.predict(file_sequences_matrix)\n",
    "prediksi = np.around(prediksi)\n",
    "prediksi = prediksi.astype(str)\n",
    "x=0\n",
    "for i in prediksi:\n",
    "    if (float(i)) ==0.0:\n",
    "        np.put(prediksi[x],0,'clickbait')\n",
    "    else:\n",
    "        np.put(prediksi[x],0,'non-clickbait')\n",
    "    \n",
    "    x+=1\n",
    "param = file.values\n",
    "final = np.hstack((param,prediksi))\n",
    "final"
   ]
  },
  {
   "cell_type": "code",
   "execution_count": null,
   "metadata": {},
   "outputs": [],
   "source": []
  }
 ],
 "metadata": {
  "kernelspec": {
   "display_name": "Python 3",
   "language": "python",
   "name": "python3"
  },
  "language_info": {
   "codemirror_mode": {
    "name": "ipython",
    "version": 3
   },
   "file_extension": ".py",
   "mimetype": "text/x-python",
   "name": "python",
   "nbconvert_exporter": "python",
   "pygments_lexer": "ipython3",
   "version": "3.6.8"
  }
 },
 "nbformat": 4,
 "nbformat_minor": 1
}
